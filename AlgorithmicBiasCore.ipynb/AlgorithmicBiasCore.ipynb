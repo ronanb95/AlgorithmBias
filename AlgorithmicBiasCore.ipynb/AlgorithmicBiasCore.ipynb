{
 "cells": [
  {
   "cell_type": "markdown",
   "metadata": {},
   "source": [
    "<h5 align = \"center\">Ronan Byrne\n",
    "13368681 </h5>"
   ]
  },
  {
   "cell_type": "markdown",
   "metadata": {},
   "source": [
    "# Algorithmic Bias - Core Code\n",
    "Some code to get started on the Algorithmic Bias assignment.   \n",
    "The dataset is Haberman's Survival Data Set from the UCI ML repository.  "
   ]
  },
  {
   "cell_type": "markdown",
   "metadata": {},
   "source": [
    "<br>\n",
    "<h1 style=\"color:blue;\" align = \"center\"> Introduction </h1>\n",
    "<br>\n",
    "\n",
    "Bias is obviously quite an issue when it comes to many of the classification problems that face the modern day data scientist. Take for example the classic problem of the prediction of credit card fraud. Obviously if we study 500 different credit card transactions the vast majority of these, say 495, will be legitimate transactions whilst perhaps 5 will not. Thus, it is easy to see how a classifier created which such data would have a tendency to predict legit transactions. \n",
    "\n",
    "Before we dive into the analysis of our data set it is also worth noting that for an exercise such as this bias can be viewed independent from accuracy. Accuracy with a biased classifier will often come from the repetive and blind prediction of the majority class in the training data which is likely to be the majority class in the test set of the data. \n",
    "\n",
    "Finally, when searching for bias in a classification problem it is likely to show up as a distortion between the total number of predicted positives(both true and false) and the total number of positives in the dataset. This distortion can be measured by the following formula:\n",
    "\n",
    "($TP$ + $FP$)  / ($TP$ + $FN$)\n",
    "\n",
    "This is known as the US score and a score of less than 1 indicates a bias away from the positive class (Cunningham & Delaney, 2020).\n",
    "\n"
   ]
  },
  {
   "cell_type": "code",
   "execution_count": 1,
   "metadata": {},
   "outputs": [
    {
     "data": {
      "text/html": [
       "<div>\n",
       "<style scoped>\n",
       "    .dataframe tbody tr th:only-of-type {\n",
       "        vertical-align: middle;\n",
       "    }\n",
       "\n",
       "    .dataframe tbody tr th {\n",
       "        vertical-align: top;\n",
       "    }\n",
       "\n",
       "    .dataframe thead th {\n",
       "        text-align: right;\n",
       "    }\n",
       "</style>\n",
       "<table border=\"1\" class=\"dataframe\">\n",
       "  <thead>\n",
       "    <tr style=\"text-align: right;\">\n",
       "      <th></th>\n",
       "      <th>Age</th>\n",
       "      <th>Year</th>\n",
       "      <th>NNodes</th>\n",
       "      <th>Class</th>\n",
       "      <th>Survived</th>\n",
       "    </tr>\n",
       "  </thead>\n",
       "  <tbody>\n",
       "    <tr>\n",
       "      <th>0</th>\n",
       "      <td>30</td>\n",
       "      <td>64</td>\n",
       "      <td>1</td>\n",
       "      <td>1</td>\n",
       "      <td>GE5</td>\n",
       "    </tr>\n",
       "    <tr>\n",
       "      <th>1</th>\n",
       "      <td>30</td>\n",
       "      <td>62</td>\n",
       "      <td>3</td>\n",
       "      <td>1</td>\n",
       "      <td>GE5</td>\n",
       "    </tr>\n",
       "    <tr>\n",
       "      <th>2</th>\n",
       "      <td>30</td>\n",
       "      <td>65</td>\n",
       "      <td>0</td>\n",
       "      <td>1</td>\n",
       "      <td>GE5</td>\n",
       "    </tr>\n",
       "    <tr>\n",
       "      <th>3</th>\n",
       "      <td>31</td>\n",
       "      <td>59</td>\n",
       "      <td>2</td>\n",
       "      <td>1</td>\n",
       "      <td>GE5</td>\n",
       "    </tr>\n",
       "    <tr>\n",
       "      <th>4</th>\n",
       "      <td>31</td>\n",
       "      <td>65</td>\n",
       "      <td>4</td>\n",
       "      <td>1</td>\n",
       "      <td>GE5</td>\n",
       "    </tr>\n",
       "  </tbody>\n",
       "</table>\n",
       "</div>"
      ],
      "text/plain": [
       "   Age  Year  NNodes  Class Survived\n",
       "0   30    64       1      1      GE5\n",
       "1   30    62       3      1      GE5\n",
       "2   30    65       0      1      GE5\n",
       "3   31    59       2      1      GE5\n",
       "4   31    65       4      1      GE5"
      ]
     },
     "execution_count": 1,
     "metadata": {},
     "output_type": "execute_result"
    }
   ],
   "source": [
    "import numpy as np\n",
    "import pandas as pd\n",
    "from collections import Counter\n",
    "from sklearn.model_selection import train_test_split\n",
    "from sklearn.metrics import classification_report\n",
    "from sklearn.metrics import confusion_matrix, accuracy_score\n",
    "from matplotlib import pyplot\n",
    "from sklearn.datasets import make_blobs\n",
    "from sklearn.neighbors import KNeighborsClassifier\n",
    "import mglearn\n",
    "import matplotlib\n",
    "import matplotlib.pyplot as plt\n",
    "import numpy as np\n",
    "\n",
    "\n",
    "\n",
    "surv = pd.read_csv('survival.csv')\n",
    "surv['Survived'] = 'GE5'\n",
    "surv.loc[surv['Class']==2,'Survived']='L5'\n",
    "surv.head()"
   ]
  },
  {
   "cell_type": "code",
   "execution_count": 2,
   "metadata": {},
   "outputs": [
    {
     "data": {
      "text/plain": [
       "GE5    225\n",
       "L5      81\n",
       "Name: Survived, dtype: int64"
      ]
     },
     "execution_count": 2,
     "metadata": {},
     "output_type": "execute_result"
    }
   ],
   "source": [
    "surv['Survived'].value_counts() "
   ]
  },
  {
   "cell_type": "code",
   "execution_count": 3,
   "metadata": {},
   "outputs": [
    {
     "data": {
      "text/plain": [
       "((306, 3), (306,))"
      ]
     },
     "execution_count": 3,
     "metadata": {},
     "output_type": "execute_result"
    }
   ],
   "source": [
    "y = surv.pop('Survived').values\n",
    "surv.pop('Class')\n",
    "X = surv.values\n",
    "X.shape, y.shape"
   ]
  },
  {
   "cell_type": "code",
   "execution_count": 4,
   "metadata": {},
   "outputs": [
    {
     "name": "stdout",
     "output_type": "stream",
     "text": [
      "Minority class : 0.26\n"
     ]
    }
   ],
   "source": [
    "print(\"Minority class : %0.2f\" % (Counter(y)['L5']/len(y)))"
   ]
  },
  {
   "cell_type": "code",
   "execution_count": 5,
   "metadata": {},
   "outputs": [
    {
     "data": {
      "text/plain": [
       "[<matplotlib.lines.Line2D at 0x1c167311cf8>,\n",
       " <matplotlib.lines.Line2D at 0x1c1670ba0b8>]"
      ]
     },
     "execution_count": 5,
     "metadata": {},
     "output_type": "execute_result"
    },
    {
     "data": {
      "image/png": "[encoded data removed]",
      "text/plain": [
       "<Figure size 432x288 with 1 Axes>"
      ]
     },
     "metadata": {
      "needs_background": "light"
     },
     "output_type": "display_data"
    }
   ],
   "source": [
    "model = KNeighborsClassifier(n_neighbors=3)\n",
    "clf = model.fit(X,y)\n",
    "mglearn.discrete_scatter(X[:,0], X[:,2], y, ax=None)"
   ]
  },
  {
   "cell_type": "markdown",
   "metadata": {},
   "source": [
    "The two graph above gives us some idea of what to expect when we begin looking at the effects of bias on various different classifiers. \n",
    "\n",
    "Here we are simply doing a quick check of the dispertion of the classes based on the two features age and NNodes. \n",
    "\n",
    "Although this is by no means complete it does give us a rough idea of how our classifiers may perform in terms of bias. We can see that there is no major distinction between the two classes. This will likely make it very hard for $k$NN and logistic regression to perform well. These will both likely have a strong bias towards the majority class as they will not have any clear way to make a distinction between classes as they are so tightly grouped. \n",
    "\n",
    "The performance of decision tree and gradient boosting classifiers is anyones guess at this point."
   ]
  },
  {
   "cell_type": "markdown",
   "metadata": {},
   "source": [
    "<br>\n",
    "<h1 style=\"color:blue;\" align = \"center\"> Part 1 (A): Hold Out Bias </h1>\n",
    "<br>"
   ]
  },
  {
   "cell_type": "markdown",
   "metadata": {},
   "source": [
    "## $k$-NN\n",
    "L5 is the minority class at ~26%.  \n",
    "$k$-NN classifier picks up this under-representation and accentuates it,  \n",
    "predicting just 16% L5. "
   ]
  },
  {
   "cell_type": "code",
   "execution_count": 6,
   "metadata": {},
   "outputs": [
    {
     "name": "stdout",
     "output_type": "stream",
     "text": [
      "(153, 3) (153, 3)\n",
      "Accuracy:  0.77\n",
      "Minority class in test set : 0.24\n",
      "Predicted minority class : 0.16\n"
     ]
    }
   ],
   "source": [
    "from sklearn.metrics import accuracy_score\n",
    "from collections import Counter\n",
    "from sklearn.model_selection import train_test_split\n",
    "\n",
    "kNN = KNeighborsClassifier(n_neighbors=3)\n",
    "\n",
    "X_train, X_test, y_train, y_test = train_test_split(X, y, test_size = 1/2, random_state=42)\n",
    "y_pred = kNN.fit(X_train, y_train).predict(X_test)\n",
    "print(X_train.shape,X_test.shape)\n",
    "print('Accuracy:  %0.2f' % accuracy_score(y_pred, y_test))\n",
    "\n",
    "pred_neg = Counter(y_pred)['L5']\n",
    "test_neg = Counter(y_test)['L5']\n",
    "\n",
    "print(\"Minority class in test set : %0.2f\" % (test_neg/len(y_test)))\n",
    "print(\"Predicted minority class : %0.2f\" % (pred_neg/len(y_pred)))"
   ]
  },
  {
   "cell_type": "code",
   "execution_count": 7,
   "metadata": {},
   "outputs": [
    {
     "data": {
      "text/plain": [
       "Counter({'GE5': 128, 'L5': 25})"
      ]
     },
     "execution_count": 7,
     "metadata": {},
     "output_type": "execute_result"
    }
   ],
   "source": [
    "Counter(y_pred)"
   ]
  },
  {
   "cell_type": "code",
   "execution_count": 8,
   "metadata": {},
   "outputs": [
    {
     "data": {
      "text/plain": [
       "Counter({'GE5': 117, 'L5': 36})"
      ]
     },
     "execution_count": 8,
     "metadata": {},
     "output_type": "execute_result"
    }
   ],
   "source": [
    "Counter(y_test)"
   ]
  },
  {
   "cell_type": "code",
   "execution_count": 9,
   "metadata": {
    "scrolled": true
   },
   "outputs": [
    {
     "name": "stdout",
     "output_type": "stream",
     "text": [
      "Accuracy: 0.77 \n",
      "\n",
      "[TN, FP]\n",
      "[FN, TP]\n",
      "Confusion matrix:\n",
      "[[105  12]\n",
      " [ 23  13]]\n",
      "\n",
      "US Score: 0.69 \n"
     ]
    }
   ],
   "source": [
    "acc = accuracy_score(y_test, y_pred)\n",
    "print(\"Accuracy: {0:.2f} \\n\".format(acc)) \n",
    "print(\"[TN, FP]\")\n",
    "print(\"[FN, TP]\")\n",
    "confusion = confusion_matrix(y_test, y_pred)\n",
    "print(\"Confusion matrix:\\n{}\\n\".format(confusion))\n",
    "kNNUS = (confusion[0][1] + confusion[1][1]) / (confusion[1][0] + confusion[1][1])\n",
    "print(\"US Score: {:.2f} \".format(kNNUS))"
   ]
  },
  {
   "cell_type": "markdown",
   "metadata": {},
   "source": [
    "The confusion matrix above indicates that the $k$NN classifier in it's current form, using 3 nearest neighbours, is biased towards the majority class (GE5). The classifier has made a total of 153 predictions and of these only 25 where predicted as positive. This equates to only predicting the minority class about 16% of the time. We can see that the false negative rate is about 15% meaning that these additional 15% should have been classified as positive. This is a precision issue, and for the case of analysing bias we are not too concerned, but it is still worth noting.\n",
    "\n",
    "Finally, in terms of the US score a strong bias away from the positive class can seen with a score of 0.7. Remember, a score below 1 indicates a bias away from the positive."
   ]
  },
  {
   "cell_type": "code",
   "execution_count": 10,
   "metadata": {},
   "outputs": [
    {
     "name": "stdout",
     "output_type": "stream",
     "text": [
      "Report:\n",
      "              precision    recall  f1-score   support\n",
      "\n",
      "         GE5       0.82      0.90      0.86       117\n",
      "          L5       0.52      0.36      0.43        36\n",
      "\n",
      "    accuracy                           0.77       153\n",
      "   macro avg       0.67      0.63      0.64       153\n",
      "weighted avg       0.75      0.77      0.76       153\n",
      "\n"
     ]
    }
   ],
   "source": [
    "report = classification_report(y_test, y_pred, target_names = ['GE5', 'L5'])\n",
    "print(\"Report:\\n{}\".format(report)) "
   ]
  },
  {
   "cell_type": "markdown",
   "metadata": {},
   "source": [
    "The classification report above further cements the findings that the current classifier is biased towards the majority class. We can see that recall is extremely low at 36%. This effectively means that only 36% of the possible positive classifications are being predicted. This is in contrast to that of the majority class (GE5) where 90% of the majority class is being predicted. We can also why this bias may be occuring as even in our test data GE5 has a strong majority of 117:36. Even when this split is taken into account the weighted avergae for recall, which calculates the recall of the positive class with weight taken into account, is still quite low at 77%."
   ]
  },
  {
   "cell_type": "markdown",
   "metadata": {},
   "source": [
    "## Decision Trees"
   ]
  },
  {
   "cell_type": "code",
   "execution_count": 11,
   "metadata": {},
   "outputs": [
    {
     "name": "stdout",
     "output_type": "stream",
     "text": [
      "(153, 3) (153, 3)\n",
      "Accuracy:  0.66\n",
      "Minority class in test set : 0.24\n",
      "Predicted minority class : 0.26\n"
     ]
    }
   ],
   "source": [
    "from sklearn.tree import DecisionTreeClassifier\n",
    "\n",
    "tree = DecisionTreeClassifier(random_state=0)\n",
    "tree.fit(X_train, y_train)\n",
    "y_pred = tree.predict(X_test)\n",
    "print(X_train.shape,X_test.shape)\n",
    "pred_neg = Counter(y_pred)['L5']\n",
    "test_neg = Counter(y_test)['L5']\n",
    "print('Accuracy:  %0.2f' % accuracy_score(y_pred, y_test))\n",
    "print(\"Minority class in test set : %0.2f\" % (test_neg/len(y_test)))\n",
    "print(\"Predicted minority class : %0.2f\" % (pred_neg/len(y_pred)))"
   ]
  },
  {
   "cell_type": "markdown",
   "metadata": {},
   "source": [
    "Here we begin to examine the Decision-Tree Classifier using the same hold out (train-test split) data as with the kNN classifier. Thus, the only difference here is the classifier that is being used. \n",
    "\n",
    "The decision tree classifier is not as biased towards the majority class as the kNN classifier above. It is, however, providing a low accuracy score as it may be overfitting to the minority class slightly. This can be seen by the fact that it predicted 26% in the way of the minority class but this was only represented by 24% of the pieces of sample data.\n",
    "\n",
    "However, due to the fact that the tree is $unpruned$, it can likely be improved as it may currently be \"not generalizing well to new data\" (Müller & Guido, 2017)."
   ]
  },
  {
   "cell_type": "code",
   "execution_count": 12,
   "metadata": {},
   "outputs": [
    {
     "name": "stdout",
     "output_type": "stream",
     "text": [
      "Accuracy: 0.66 \n",
      "\n",
      "[TN, FP]\n",
      "[FN, TP]\n",
      "Confusion matrix:\n",
      "[[89 28]\n",
      " [24 12]]\n",
      "\n",
      "US Score: 1.11 \n"
     ]
    }
   ],
   "source": [
    "acc = accuracy_score(y_test, y_pred)\n",
    "print(\"Accuracy: {0:.2f} \\n\".format(acc)) \n",
    "print(\"[TN, FP]\")\n",
    "print(\"[FN, TP]\")\n",
    "confusion = confusion_matrix(y_test, y_pred)\n",
    "print(\"Confusion matrix:\\n{}\\n\".format(confusion))\n",
    "dtUS = (confusion[0][1] + confusion[1][1]) / (confusion[1][0] + confusion[1][1])\n",
    "print(\"US Score: {:.2f} \".format(dtUS))"
   ]
  },
  {
   "cell_type": "markdown",
   "metadata": {},
   "source": [
    "When we calculate the US score we can see that the bias towards the majority class does not exist here. We obtain a score of 1.1 indicating that we are in fact leaning in the favour of the minority class very slightly. "
   ]
  },
  {
   "cell_type": "code",
   "execution_count": 13,
   "metadata": {},
   "outputs": [
    {
     "name": "stdout",
     "output_type": "stream",
     "text": [
      "Report:\n",
      "              precision    recall  f1-score   support\n",
      "\n",
      "         GE5       0.79      0.76      0.77       117\n",
      "          L5       0.30      0.33      0.32        36\n",
      "\n",
      "    accuracy                           0.66       153\n",
      "   macro avg       0.54      0.55      0.54       153\n",
      "weighted avg       0.67      0.66      0.67       153\n",
      "\n"
     ]
    }
   ],
   "source": [
    "report = classification_report(y_test, y_pred, target_names = ['GE5', 'L5'])\n",
    "print(\"Report:\\n{}\".format(report)) "
   ]
  },
  {
   "cell_type": "markdown",
   "metadata": {},
   "source": [
    "The recall of both the GE5 and L5 classes have fallen here when compared to the kNN classifier. This indicates that this is simply not a good classifier. It is also worth noting that the f1 score for both classes, which takes precision into account, also performs quite badly. This ultimately indicates a bad classifier and may well be likely due to a lack of pruning. But, nonetheless, the effect of bias are not present here."
   ]
  },
  {
   "cell_type": "markdown",
   "metadata": {},
   "source": [
    "## Logistic Regression"
   ]
  },
  {
   "cell_type": "code",
   "execution_count": 14,
   "metadata": {},
   "outputs": [
    {
     "name": "stdout",
     "output_type": "stream",
     "text": [
      "(153, 3) (153, 3)\n",
      "Accuracy:  0.78\n",
      "Minority class in test set : 0.24\n",
      "Predicted minority class : 0.07\n"
     ]
    }
   ],
   "source": [
    "from sklearn.linear_model import LogisticRegression\n",
    "\n",
    "logreg = LogisticRegression().fit(X_train, y_train)\n",
    "y_pred = logreg.predict(X_test)\n",
    "print(X_train.shape,X_test.shape)\n",
    "pred_neg = Counter(y_pred)['L5']\n",
    "test_neg = Counter(y_test)['L5']\n",
    "print('Accuracy:  %0.2f' % accuracy_score(y_pred, y_test))\n",
    "print(\"Minority class in test set : %0.2f\" % (test_neg/len(y_test)))\n",
    "print(\"Predicted minority class : %0.2f\" % (pred_neg/len(y_pred)))"
   ]
  },
  {
   "cell_type": "markdown",
   "metadata": {},
   "source": [
    "This logistic regression classifier sees an obvious increse in accuracy but this is likely due to the fact that it is simply predicting the majority class. \n",
    "This can be seen by the massive reluctance that it has with predicting the minority class (only .7% predicted vs 24% represented). "
   ]
  },
  {
   "cell_type": "code",
   "execution_count": 15,
   "metadata": {},
   "outputs": [
    {
     "name": "stdout",
     "output_type": "stream",
     "text": [
      "Accuracy: 0.78\n",
      "\n",
      "[TN, FP]\n",
      "[FN, TP]\n",
      "Confusion matrix:\n",
      "[[113   4]\n",
      " [ 30   6]]\n",
      "\n",
      "US Score: 0.28 \n"
     ]
    }
   ],
   "source": [
    "acc = accuracy_score(y_test, y_pred)\n",
    "print(\"Accuracy: {0:.2f}\\n\".format(acc)) \n",
    "print(\"[TN, FP]\")\n",
    "print(\"[FN, TP]\")\n",
    "confusion = confusion_matrix(y_test, y_pred)\n",
    "print(\"Confusion matrix:\\n{}\\n\".format(confusion))\n",
    "lrUS = (confusion[0][1] + confusion[1][1]) / (confusion[1][0] + confusion[1][1])\n",
    "print(\"US Score: {:.2f} \".format(lrUS))"
   ]
  },
  {
   "cell_type": "markdown",
   "metadata": {},
   "source": [
    "The US score leaves much to be desired here at only 0.28. This indicates a very strong bias away from our positive minority class."
   ]
  },
  {
   "cell_type": "code",
   "execution_count": 16,
   "metadata": {},
   "outputs": [
    {
     "name": "stdout",
     "output_type": "stream",
     "text": [
      "Report:\n",
      "              precision    recall  f1-score   support\n",
      "\n",
      "         GE5       0.79      0.97      0.87       117\n",
      "          L5       0.60      0.17      0.26        36\n",
      "\n",
      "    accuracy                           0.78       153\n",
      "   macro avg       0.70      0.57      0.57       153\n",
      "weighted avg       0.75      0.78      0.73       153\n",
      "\n"
     ]
    }
   ],
   "source": [
    "report = classification_report(y_test, y_pred, target_names = ['GE5', 'L5'])\n",
    "print(\"Report:\\n{}\".format(report))"
   ]
  },
  {
   "cell_type": "markdown",
   "metadata": {},
   "source": [
    "Both the confusion matrix and classification point to obvious bias towards the majority class. \n",
    "\n",
    "The classification report shows that recall is more or less terrible for the minority class. However, it is very high for the majority class. This explains the increase in accuracy seen with this classifier...it is simply predicting the majority class which has led to increased accuracy but worse generalisation to unseen data. This can also been seen by the 0.79 precision score of the majority class which indicates that the classifier is simply predicting the majority class and many times this incorrect but it makes the prediction due to a bias."
   ]
  },
  {
   "cell_type": "markdown",
   "metadata": {},
   "source": [
    "## Gradient Boosting"
   ]
  },
  {
   "cell_type": "code",
   "execution_count": 17,
   "metadata": {},
   "outputs": [
    {
     "name": "stdout",
     "output_type": "stream",
     "text": [
      "(153, 3) (153, 3)\n",
      "Accuracy:  0.70\n",
      "Minority class in test set : 0.24\n",
      "Predicted minority class : 0.24\n"
     ]
    }
   ],
   "source": [
    "from sklearn.ensemble import GradientBoostingClassifier\n",
    "\n",
    "gbrt = GradientBoostingClassifier().fit(X_train, y_train)\n",
    "y_pred = gbrt.predict(X_test)\n",
    "print(X_train.shape,X_test.shape)\n",
    "pred_neg = Counter(y_pred)['L5']\n",
    "test_neg = Counter(y_test)['L5']\n",
    "print('Accuracy:  %0.2f' % accuracy_score(y_pred, y_test))\n",
    "print(\"Minority class in test set : %0.2f\" % (test_neg/len(y_test)))\n",
    "print(\"Predicted minority class : %0.2f\" % (pred_neg/len(y_pred)))"
   ]
  },
  {
   "cell_type": "markdown",
   "metadata": {},
   "source": [
    "Gradient boosting is an ensemble classifier that uses decision trees meaning that it creates many different tress and uses a voting system to come up with predictions. Thus it makes sense that we see similar, albeit better, results to the results seen with the decision tree classifier."
   ]
  },
  {
   "cell_type": "code",
   "execution_count": 18,
   "metadata": {},
   "outputs": [
    {
     "name": "stdout",
     "output_type": "stream",
     "text": [
      "Accuracy: 0.70\n",
      "\n",
      "[TN, FP]\n",
      "[FN, TP]\n",
      "Confusion matrix:\n",
      "[[94 23]\n",
      " [23 13]]\n",
      "\n",
      "US Score: 1.00 \n"
     ]
    }
   ],
   "source": [
    "acc = accuracy_score(y_test, y_pred)\n",
    "print(\"Accuracy: {0:.2f}\\n\".format(acc)) \n",
    "print(\"[TN, FP]\")\n",
    "print(\"[FN, TP]\")\n",
    "confusion = confusion_matrix(y_test, y_pred)\n",
    "print(\"Confusion matrix:\\n{}\\n\".format(confusion))\n",
    "gbUS = (confusion[0][1] + confusion[1][1]) / (confusion[1][0] + confusion[1][1])\n",
    "print(\"US Score: {:.2f} \".format(gbUS))"
   ]
  },
  {
   "cell_type": "markdown",
   "metadata": {},
   "source": [
    "The US score of this classifier is much like that of the similar decision tree classifier with an overall score of 1 as oppossed 1.1. This would indicate that there is essentially no bias at play here."
   ]
  },
  {
   "cell_type": "code",
   "execution_count": 19,
   "metadata": {},
   "outputs": [
    {
     "name": "stdout",
     "output_type": "stream",
     "text": [
      "Report:\n",
      "              precision    recall  f1-score   support\n",
      "\n",
      "         GE5       0.80      0.80      0.80       117\n",
      "          L5       0.36      0.36      0.36        36\n",
      "\n",
      "    accuracy                           0.70       153\n",
      "   macro avg       0.58      0.58      0.58       153\n",
      "weighted avg       0.70      0.70      0.70       153\n",
      "\n"
     ]
    }
   ],
   "source": [
    "report = classification_report(y_test, y_pred, target_names = ['GE5', 'L5'])\n",
    "print(\"Report:\\n{}\".format(report))"
   ]
  },
  {
   "cell_type": "markdown",
   "metadata": {},
   "source": [
    "Like the decision tree, this classifier is just generally bad. Predictions of the minority class do occur but when they occur they are not very precise, being incorrect almost 2/3 of the time. Therefore we can say that bias is not massively an issue here but instead the issue is simply a bad classifier. "
   ]
  },
  {
   "cell_type": "markdown",
   "metadata": {},
   "source": [
    "<br>\n",
    "<h3 style=\"color:blue;\" align = \"center\"> Visualising Bias </h3>\n",
    "<br>"
   ]
  },
  {
   "cell_type": "code",
   "execution_count": 20,
   "metadata": {},
   "outputs": [
    {
     "data": {
      "image/png": "[encoded data removed]",
      "text/plain": [
       "<Figure size 432x288 with 1 Axes>"
      ]
     },
     "metadata": {
      "needs_background": "light"
     },
     "output_type": "display_data"
    }
   ],
   "source": [
    "labels = ['kNN', 'Decision Tree', 'Logistic Reg', 'Gradient Boost']\n",
    "before_scores = [.31, .11, .72, 0]\n",
    "\n",
    "x = np.arange(len(labels))  # the label locations\n",
    "width = 0.35  # the width of the bars\n",
    "\n",
    "fig, ax = plt.subplots()\n",
    "rects1 = ax.bar(x - width/2, before_scores, width, label='Bias', color=\"cyan\")\n",
    "\n",
    "# Add some text for labels, title and custom x-axis tick labels, etc.\n",
    "ax.set_ylabel('Distance from 1.0')\n",
    "ax.set_title('Scores by Classifier')\n",
    "ax.set_xticks(x)\n",
    "ax.set_xticklabels(labels)\n",
    "ax.legend()\n",
    "\n",
    "\n",
    "def autolabel(rects):\n",
    "    \"\"\"Attach a text label above each bar in *rects*, displaying its height.\"\"\"\n",
    "    for rect in rects:\n",
    "        height = rect.get_height()\n",
    "        ax.annotate('{}'.format(height),\n",
    "                    xy=(rect.get_x() + rect.get_width() / 2, height),\n",
    "                    xytext=(0, 3),  # 3 points vertical offset\n",
    "                    textcoords=\"offset points\",\n",
    "                    ha='center', va='bottom')\n",
    "\n",
    "\n",
    "autolabel(rects1)\n",
    "\n",
    "fig.tight_layout()\n",
    "\n",
    "plt.show()"
   ]
  },
  {
   "cell_type": "markdown",
   "metadata": {},
   "source": [
    "The above graph simply shows the US score for each classifier. It does not take into account the direction of bias and instead just attempts to show which classifiers are worst effected by bias. \n",
    "\n",
    "As predicted at the bgeinning of this notebook, both $k$NN and logistic regression are the worst effected and this is most likely due to the fact that there is no major distiunction between the classes and so the two mentioned classifoers are relying on bias to make predictions. "
   ]
  },
  {
   "cell_type": "markdown",
   "metadata": {},
   "source": [
    "<br>\n",
    "<h1 style=\"color:blue;\" align = \"center\"> Part 1 (B): Cross Val Bias </h1>\n",
    "<br>"
   ]
  },
  {
   "cell_type": "code",
   "execution_count": 21,
   "metadata": {},
   "outputs": [],
   "source": [
    "from sklearn.model_selection import cross_validate\n",
    "from sklearn.metrics import recall_score\n",
    "from sklearn.model_selection import cross_val_score\n",
    "from sklearn.metrics import make_scorer\n",
    "def tp(y_true, y_pred): return confusion_matrix(y_true, y_pred)[1, 1]\n",
    "def tn(y_true, y_pred): return confusion_matrix(y_true, y_pred)[0, 0]\n",
    "def fp(y_true, y_pred): return confusion_matrix(y_true, y_pred)[0, 1]\n",
    "def fn(y_true, y_pred): return confusion_matrix(y_true, y_pred)[1, 0]\n",
    "scoring = {'tp' : make_scorer(tp), 'tn' : make_scorer(tn),\n",
    "           'fp' : make_scorer(fp), 'fn' : make_scorer(fn)}\n",
    "\n",
    "models = [kNN,tree,logreg,gbrt]\n",
    "\n",
    "folds = 10\n",
    "v = 0 #  use 1 or 0"
   ]
  },
  {
   "cell_type": "code",
   "execution_count": 22,
   "metadata": {},
   "outputs": [
    {
     "name": "stdout",
     "output_type": "stream",
     "text": [
      "10 x CV KNeighborsClassifier   FP: 0.20   TP: 0.31    RECALL: 0.31    PRECISION: 0.36\n",
      "10 x CV DecisionTreeClassifier FP: 0.31   TP: 0.35    RECALL: 0.35    PRECISION: 0.29\n",
      "10 x CV LogisticRegression     FP: 0.04   TP: 0.16    RECALL: 0.16    PRECISION: 0.57\n",
      "10 x CV GradientBoostingClassifier FP: 0.25   TP: 0.25    RECALL: 0.25    PRECISION: 0.26\n"
     ]
    }
   ],
   "source": [
    "for m in models:\n",
    "    cv_results = cross_validate(m, X, y, cv= folds,scoring=scoring, return_train_score=False, \n",
    "                                    verbose = v, n_jobs = -1)\n",
    "    fp_rate = cv_results['test_fp'].sum()/(cv_results['test_fp'].sum()+cv_results['test_tn'].sum())\n",
    "    tp_rate = cv_results['test_tp'].sum()/(cv_results['test_tp'].sum()+cv_results['test_fn'].sum())\n",
    "    recall = cv_results['test_tp'].sum()/(cv_results['test_tp'].sum()+cv_results['test_fn'].sum())\n",
    "    precision = cv_results['test_tp'].sum()/(cv_results['test_fp'].sum()+cv_results['test_tp'].sum())\n",
    "  \n",
    "    print(\"{} x CV {:22} FP: {:.2f}   TP: {:.2f}    RECALL: {:.2f}    PRECISION: {:.2f}\".format(folds, type(m).__name__, fp_rate, tp_rate, recall, precision)) "
   ]
  },
  {
   "cell_type": "markdown",
   "metadata": {},
   "source": [
    "We can see that for each of the above classifiers false positive rates continued to remain low. The true positive rate does not do much better.\n",
    "\n",
    "The recall for all models actually became worse, except in the case of the decision tree classifier which experienced a very slight increase. \n",
    "\n",
    "For the sake of arguement we can compare the false positive and true positive rates with their negative counterparts."
   ]
  },
  {
   "cell_type": "code",
   "execution_count": 23,
   "metadata": {},
   "outputs": [
    {
     "name": "stdout",
     "output_type": "stream",
     "text": [
      "10 x CV KNeighborsClassifier   FN: 0.69   TN: 0.80\n",
      "10 x CV DecisionTreeClassifier FN: 0.65   TN: 0.69\n",
      "10 x CV LogisticRegression     FN: 0.84   TN: 0.96\n",
      "10 x CV GradientBoostingClassifier FN: 0.75   TN: 0.75\n"
     ]
    }
   ],
   "source": [
    "for m in models:\n",
    "    cv_results = cross_validate(m, X, y, cv= folds,scoring=scoring, return_train_score=False, \n",
    "                                    verbose = v, n_jobs = -1)\n",
    "    fn_rate = cv_results['test_fn'].sum()/(cv_results['test_fn'].sum()+cv_results['test_tp'].sum())\n",
    "    tn_rate = cv_results['test_tn'].sum()/(cv_results['test_fp'].sum()+cv_results['test_tn'].sum())\n",
    "  \n",
    "    print(\"{} x CV {:22} FN: {:.2f}   TN: {:.2f}\".format(folds, type(m).__name__, fn_rate, tn_rate)) "
   ]
  },
  {
   "cell_type": "markdown",
   "metadata": {},
   "source": [
    "In all cases the sensitivity, or false negative rate, is vastly higher then the false positive rates. This indicates that the classifiers are overfitting to the majority class and are less likely and willing to predict the positive minority class. A similar result can be seen with the true negative rate."
   ]
  },
  {
   "cell_type": "markdown",
   "metadata": {},
   "source": [
    "Thus, in conclusion to this section, we can say that bias that obviously exists, in terms of L5 being under represented, effects each classifier differently. For both $k$NN and logistic regression the effects are quite obvious and make the classifiers, in their current form, quite useless. The decision tree classifiers and the gradient boosting classifier are not effected by the bias in terms of their US score (their ability to predict positives) but they are still very inaccurate in their current form."
   ]
  },
  {
   "cell_type": "markdown",
   "metadata": {},
   "source": [
    "<br>\n",
    "<h1 style=\"color:blue;\" align = \"center\"> Part 2 (A): Tackling Bias - SMOTE </h1>\n",
    "<br>"
   ]
  },
  {
   "cell_type": "markdown",
   "metadata": {},
   "source": [
    "SMOTE is essentially a form of oversampling. This basically helps to tackle bias by upsampling the minority class of the data set."
   ]
  },
  {
   "cell_type": "code",
   "execution_count": 24,
   "metadata": {},
   "outputs": [],
   "source": [
    "# example of oversampling the minority class\n",
    "from collections import Counter\n",
    "from sklearn.datasets import make_classification\n",
    "from imblearn.over_sampling import SMOTE"
   ]
  },
  {
   "cell_type": "code",
   "execution_count": 25,
   "metadata": {},
   "outputs": [],
   "source": [
    "surv = pd.read_csv('survival.csv')\n",
    "surv['Survived'] = 'GE5'\n",
    "surv.loc[surv['Class']==2,'Survived']='L5'\n",
    "y = surv.pop('Survived').values\n",
    "surv.pop('Class')\n",
    "X = surv.values\n",
    "X_train, X_test, y_train, y_test = train_test_split(X, y, test_size = 1/2, random_state=42)"
   ]
  },
  {
   "cell_type": "code",
   "execution_count": 26,
   "metadata": {},
   "outputs": [
    {
     "name": "stdout",
     "output_type": "stream",
     "text": [
      "{'GE5': 108, 'L5': 45}\n"
     ]
    }
   ],
   "source": [
    "unique, count = np.unique(y_train, return_counts=True)\n",
    "pre_smote_counts = {k:v for (k,v) in zip(unique, count)}\n",
    "print(pre_smote_counts)"
   ]
  },
  {
   "cell_type": "code",
   "execution_count": 27,
   "metadata": {},
   "outputs": [],
   "source": [
    "sm = SMOTE(random_state=12)"
   ]
  },
  {
   "cell_type": "code",
   "execution_count": 28,
   "metadata": {},
   "outputs": [],
   "source": [
    "X_train, y_train = sm.fit_sample(X_train, y_train)"
   ]
  },
  {
   "cell_type": "code",
   "execution_count": 29,
   "metadata": {},
   "outputs": [
    {
     "data": {
      "text/plain": [
       "{'GE5': 108, 'L5': 108}"
      ]
     },
     "execution_count": 29,
     "metadata": {},
     "output_type": "execute_result"
    }
   ],
   "source": [
    "unique, count = np.unique(y_train, return_counts=True)\n",
    "y_train_smote_value_count = { k:v for (k,v) in zip(unique, count)}\n",
    "y_train_smote_value_count"
   ]
  },
  {
   "cell_type": "markdown",
   "metadata": {},
   "source": [
    "We can clearly see how SMOTE has worked here. Previously our training set was split GE5 = 108, L5 = 45. After we applied SMOTE we have made the two classes equal in terms of appearnaces in the dataset by increasing the minority, L5, set. Therefore we now have GE5 = 108, L5 = 108."
   ]
  },
  {
   "cell_type": "code",
   "execution_count": 30,
   "metadata": {},
   "outputs": [
    {
     "name": "stdout",
     "output_type": "stream",
     "text": [
      "---------------------------------KNN------------------------------------\n",
      "Accuracy: 0.63\n",
      "\n",
      "[TN, FP]\n",
      "[FN, TP]\n",
      "Confusion matrix:\n",
      "[[80 37]\n",
      " [19 17]]\n",
      "\n",
      "US Score: 1.50\n",
      "Original US: 0.69\n",
      "\n",
      "Report:\n",
      "              precision    recall  f1-score   support\n",
      "\n",
      "         GE5       0.81      0.68      0.74       117\n",
      "          L5       0.31      0.47      0.38        36\n",
      "\n",
      "    accuracy                           0.63       153\n",
      "   macro avg       0.56      0.58      0.56       153\n",
      "weighted avg       0.69      0.63      0.66       153\n",
      "\n",
      "---------------------------------DECISION TREE------------------------------------\n",
      "Accuracy: 0.62\n",
      "\n",
      "Confusion matrix:\n",
      "[[80 37]\n",
      " [21 15]]\n",
      "\n",
      "US Score: 1.44\n",
      "Original US: 1.11\n",
      "\n",
      "Report:\n",
      "              precision    recall  f1-score   support\n",
      "\n",
      "         GE5       0.79      0.68      0.73       117\n",
      "          L5       0.29      0.42      0.34        36\n",
      "\n",
      "    accuracy                           0.62       153\n",
      "   macro avg       0.54      0.55      0.54       153\n",
      "weighted avg       0.67      0.62      0.64       153\n",
      "\n",
      "\n",
      "\n",
      "---------------------------------Logistic Regression------------------------------------\n",
      "Accuracy: 0.67\n",
      "\n",
      "Confusion matrix:\n",
      "[[82 35]\n",
      " [16 20]]\n",
      "\n",
      "US Score: 1.53\n",
      "Original US: 0.28\n",
      "\n",
      "Report:\n",
      "              precision    recall  f1-score   support\n",
      "\n",
      "         GE5       0.84      0.70      0.76       117\n",
      "          L5       0.36      0.56      0.44        36\n",
      "\n",
      "    accuracy                           0.67       153\n",
      "   macro avg       0.60      0.63      0.60       153\n",
      "weighted avg       0.73      0.67      0.69       153\n",
      "\n",
      "\n",
      "\n",
      "---------------------------------Gradient Boosting------------------------------------\n",
      "Accuracy: 0.61\n",
      "\n",
      "Confusion matrix:\n",
      "[[74 43]\n",
      " [16 20]]\n",
      "\n",
      "US Score: 1.75\n",
      "Original US: 1.00\n",
      "\n",
      "Report:\n",
      "              precision    recall  f1-score   support\n",
      "\n",
      "         GE5       0.82      0.63      0.71       117\n",
      "          L5       0.32      0.56      0.40        36\n",
      "\n",
      "    accuracy                           0.61       153\n",
      "   macro avg       0.57      0.59      0.56       153\n",
      "weighted avg       0.70      0.61      0.64       153\n",
      "\n"
     ]
    }
   ],
   "source": [
    "print(\"---------------------------------KNN------------------------------------\")\n",
    "y_pred = kNN.fit(X_train, y_train).predict(X_test)\n",
    "acc = accuracy_score(y_test, y_pred)\n",
    "print(\"Accuracy: {0:.2f}\\n\".format(acc)) \n",
    "print(\"[TN, FP]\")\n",
    "print(\"[FN, TP]\")\n",
    "confusion = confusion_matrix(y_test, y_pred)\n",
    "print(\"Confusion matrix:\\n{}\\n\".format(confusion))\n",
    "print(\"US Score: {:.2f}\".format((confusion[0][1] + confusion[1][1]) / (confusion[1][0] + confusion[1][1])))\n",
    "print(\"Original US: {:.2f}\\n\".format(kNNUS))\n",
    "report = classification_report(y_test, y_pred, target_names = ['GE5', 'L5'])\n",
    "print(\"Report:\\n{}\".format(report)) \n",
    "print(\"---------------------------------DECISION TREE------------------------------------\")\n",
    "tree.fit(X_train, y_train)\n",
    "y_pred = tree.predict(X_test)\n",
    "acc = accuracy_score(y_test, y_pred)\n",
    "print(\"Accuracy: {0:.2f}\\n\".format(acc)) \n",
    "confusion = confusion_matrix(y_test, y_pred)\n",
    "print(\"Confusion matrix:\\n{}\\n\".format(confusion))\n",
    "print(\"US Score: {:.2f}\".format((confusion[0][1] + confusion[1][1]) / (confusion[1][0] + confusion[1][1])))\n",
    "print(\"Original US: {:.2f}\\n\".format(dtUS))\n",
    "report = classification_report(y_test, y_pred, target_names = ['GE5', 'L5'])\n",
    "print(\"Report:\\n{}\".format(report)) \n",
    "print(\"\\n\")\n",
    "print(\"---------------------------------Logistic Regression------------------------------------\")\n",
    "logreg = LogisticRegression().fit(X_train, y_train)\n",
    "y_pred = logreg.predict(X_test)\n",
    "acc = accuracy_score(y_test, y_pred)\n",
    "print(\"Accuracy: {0:.2f}\\n\".format(acc)) \n",
    "confusion = confusion_matrix(y_test, y_pred)\n",
    "print(\"Confusion matrix:\\n{}\\n\".format(confusion))\n",
    "print(\"US Score: {:.2f}\".format((confusion[0][1] + confusion[1][1]) / (confusion[1][0] + confusion[1][1])))\n",
    "print(\"Original US: {:.2f}\\n\".format(lrUS))\n",
    "report = classification_report(y_test, y_pred, target_names = ['GE5', 'L5'])\n",
    "print(\"Report:\\n{}\".format(report))\n",
    "print(\"\\n\")\n",
    "print(\"---------------------------------Gradient Boosting------------------------------------\")\n",
    "gbrt = GradientBoostingClassifier().fit(X_train, y_train)\n",
    "y_pred = gbrt.predict(X_test)\n",
    "acc = accuracy_score(y_test, y_pred)\n",
    "print(\"Accuracy: {0:.2f}\\n\".format(acc)) \n",
    "confusion = confusion_matrix(y_test, y_pred)\n",
    "print(\"Confusion matrix:\\n{}\\n\".format(confusion))\n",
    "print(\"US Score: {:.2f}\".format((confusion[0][1] + confusion[1][1]) / (confusion[1][0] + confusion[1][1])))\n",
    "print(\"Original US: {:.2f}\\n\".format(gbUS))\n",
    "report = classification_report(y_test, y_pred, target_names = ['GE5', 'L5'])\n",
    "print(\"Report:\\n{}\".format(report))"
   ]
  },
  {
   "cell_type": "markdown",
   "metadata": {},
   "source": [
    "From the above results, it seems that SMOTE has worked a little bit too well. It is clear that SMOTE has tackled the bias towards the majority class (GE5) but it has now made each of our classifiers bias towards L5. This can be seen due to the fact that each of the US scores for each of the classifiers is now above 1, in most cases by quite a large amount.  "
   ]
  },
  {
   "cell_type": "markdown",
   "metadata": {},
   "source": [
    "The overall accuracy of the classifier has fallen. This is likely due to the fact that the positive class is now being predicted more often, although these predictions are not always correct. These incorrect predictions obviously reduce the accuracy as in many cases these would have been correctly predicting the majority class simply out of bias.\n",
    "\n",
    "These findings do not indicate that the classifiers are good classifiers but they certainly indicate that the classifiers are not as effected by bias towards GE5 as they were previously."
   ]
  },
  {
   "cell_type": "markdown",
   "metadata": {},
   "source": [
    "The long and tedious set of results above basically help to further prove the point that was discussed after analysing the results from the US Scores.\n",
    "\n",
    "Essentially, in all, cases bias has been greatly decreased. All classifiers now have a greater tendency predict the previously minority class. \n",
    "\n",
    "On our test data this has resulted, in all cases, in a decrease in accuracy. Once again, this is due to the fact that the classifiers are not just blindly predicting the majority class. Both overall accuracy and f1-score have suffered. \n",
    "\n",
    "In all case the number of false positives are quite high, especially when compared with the number of false negatives. Thus, perhaps with some tuning, or perhaps with slightly less L5's in our training set we could increase the accuracy of these classifiers whilst also maintaining the reduced bias."
   ]
  },
  {
   "cell_type": "markdown",
   "metadata": {},
   "source": [
    "<br>\n",
    "<h1 style=\"color:blue;\" align = \"center\"> Part 2 (B): Tackling Bias - Alternative Method (TomekLinks)</h1>\n",
    "<br>"
   ]
  },
  {
   "attachments": {
    "screenshot-www.kaggle.com-2020.10.27-19_26_26.png": {
     "image/png": "[encoded data removed]"
    }
   },
   "cell_type": "markdown",
   "metadata": {},
   "source": [
    "Obviously there was some issue with oversampling using SMOTE. One alternative would be the use of undersampling but obviously this is undesirable as we may lose some pretty important data if we do this. \n",
    "\n",
    "One form of undersampling that is noteable is the use of Tomek links. These are links of pairs of closely related instances but of the opposite classes. For each of these pairs the majority class will be removed. This will increase the space between the two classes and this should halp our classifier to be better able to distinguish between the two classes. This means that, although some data will be dropped, the majority of the data will be preserved.\n",
    "\n",
    "The idea is captured well by the below image (Alencar, 2017):\n",
    "\n",
    "![screenshot-www.kaggle.com-2020.10.27-19_26_26.png](attachment:screenshot-www.kaggle.com-2020.10.27-19_26_26.png)"
   ]
  },
  {
   "cell_type": "code",
   "execution_count": 31,
   "metadata": {},
   "outputs": [
    {
     "name": "stdout",
     "output_type": "stream",
     "text": [
      "{'GE5': 108, 'L5': 45}\n"
     ]
    }
   ],
   "source": [
    "#Need to read in the file and split again to get rid of effects of SMOTE\n",
    "\n",
    "surv = pd.read_csv('survival.csv')\n",
    "surv['Survived'] = 'GE5'\n",
    "surv.loc[surv['Class']==2,'Survived']='L5'\n",
    "y = surv.pop('Survived').values\n",
    "surv.pop('Class')\n",
    "X = surv.values\n",
    "X_train, X_test, y_train, y_test = train_test_split(X, y, test_size = 1/2, random_state=42)\n",
    "unique, count = np.unique(y_train, return_counts=True)\n",
    "counts = {k:v for (k,v) in zip(unique, count)}\n",
    "print(counts)"
   ]
  },
  {
   "cell_type": "code",
   "execution_count": 32,
   "metadata": {},
   "outputs": [],
   "source": [
    "from imblearn.under_sampling import TomekLinks\n",
    "tl = TomekLinks()"
   ]
  },
  {
   "cell_type": "code",
   "execution_count": 33,
   "metadata": {},
   "outputs": [
    {
     "name": "stdout",
     "output_type": "stream",
     "text": [
      "{'GE5': 91, 'L5': 45}\n"
     ]
    }
   ],
   "source": [
    "X_train_tl, y_train_tl = tl.fit_sample(X_train, y_train)\n",
    "unique, count = np.unique(y_train_tl, return_counts=True)\n",
    "counts = {k:v for (k,v) in zip(unique, count)}\n",
    "print(counts)"
   ]
  },
  {
   "cell_type": "code",
   "execution_count": 34,
   "metadata": {},
   "outputs": [
    {
     "data": {
      "text/plain": [
       "[<matplotlib.lines.Line2D at 0x1c1675633c8>,\n",
       " <matplotlib.lines.Line2D at 0x1c1674488d0>]"
      ]
     },
     "execution_count": 34,
     "metadata": {},
     "output_type": "execute_result"
    },
    {
     "data": {
      "image/png": "[encoded data removed]",
      "text/plain": [
       "<Figure size 432x288 with 1 Axes>"
      ]
     },
     "metadata": {
      "needs_background": "light"
     },
     "output_type": "display_data"
    }
   ],
   "source": [
    "model = KNeighborsClassifier(n_neighbors=3)\n",
    "clf = model.fit(X_train,y_train)\n",
    "mglearn.discrete_scatter(X_train[:,0], X_train[:,2], y_train, ax=None)"
   ]
  },
  {
   "cell_type": "code",
   "execution_count": 35,
   "metadata": {},
   "outputs": [
    {
     "data": {
      "text/plain": [
       "[<matplotlib.lines.Line2D at 0x1c1676825f8>,\n",
       " <matplotlib.lines.Line2D at 0x1c167682630>]"
      ]
     },
     "execution_count": 35,
     "metadata": {},
     "output_type": "execute_result"
    },
    {
     "data": {
      "image/png": "[encoded data removed]",
      "text/plain": [
       "<Figure size 432x288 with 1 Axes>"
      ]
     },
     "metadata": {
      "needs_background": "light"
     },
     "output_type": "display_data"
    }
   ],
   "source": [
    "model = KNeighborsClassifier(n_neighbors=3)\n",
    "clf = model.fit(X_train_tl,y_train_tl)\n",
    "mglearn.discrete_scatter(X_train_tl[:,0], X_train_tl[:,2], y_train_tl, ax=None)"
   ]
  },
  {
   "cell_type": "markdown",
   "metadata": {},
   "source": [
    "From the two graphs above we can see how Tomek Links worked on our data.  Tomek Links has reduced the number of GE5 data samples from 108 to 91 whilst maintaining L5 at 45. If we compare the two graphs we can see that the samples of GE5 that were dropped are those that are closely linked to the samples of L5. For example, the sample of L5 (the orange triangle) at the very center is now alone when before it was closely linked to a GE5 sample. The two triangles just above hte 70 on the x axis have also been relieved of a close GE5. There are in total 17 cases of this but this is not massively obvious as many of the dropped GE5 samples may be forom the bottom area of the graph where it is difficult to see due to the density of samples in that region.\n",
    "\n",
    "Ultimately, however, this should make it easier for both $k$NN and LR to perform better in terms of bias."
   ]
  },
  {
   "cell_type": "code",
   "execution_count": 36,
   "metadata": {},
   "outputs": [
    {
     "name": "stdout",
     "output_type": "stream",
     "text": [
      "---------------------------------kNN------------------------------------\n",
      "Accuracy: 0.75\n",
      "\n",
      "Confusion matrix:\n",
      "[[100  17]\n",
      " [ 22  14]]\n",
      "\n",
      "US Score: 0.86\n",
      "Original US: 0.69\n",
      "\n",
      "Report:\n",
      "              precision    recall  f1-score   support\n",
      "\n",
      "         GE5       0.82      0.85      0.84       117\n",
      "          L5       0.45      0.39      0.42        36\n",
      "\n",
      "    accuracy                           0.75       153\n",
      "   macro avg       0.64      0.62      0.63       153\n",
      "weighted avg       0.73      0.75      0.74       153\n",
      "\n",
      "\n",
      "\n",
      "---------------------------------Logistic Regression------------------------------------\n",
      "Accuracy: 0.78\n",
      "\n",
      "Confusion matrix:\n",
      "[[109   8]\n",
      " [ 26  10]]\n",
      "\n",
      "US Score: 0.50\n",
      "Original US: 0.28\n",
      "\n",
      "Report:\n",
      "              precision    recall  f1-score   support\n",
      "\n",
      "         GE5       0.81      0.93      0.87       117\n",
      "          L5       0.56      0.28      0.37        36\n",
      "\n",
      "    accuracy                           0.78       153\n",
      "   macro avg       0.68      0.60      0.62       153\n",
      "weighted avg       0.75      0.78      0.75       153\n",
      "\n",
      "\n",
      "\n",
      "---------------------------------DECISION TREE------------------------------------\n",
      "Accuracy: 0.66\n",
      "\n",
      "Confusion matrix:\n",
      "[[82 35]\n",
      " [17 19]]\n",
      "\n",
      "US Score: 1.50\n",
      "Original US: 1.11\n",
      "\n",
      "Report:\n",
      "              precision    recall  f1-score   support\n",
      "\n",
      "         GE5       0.83      0.70      0.76       117\n",
      "          L5       0.35      0.53      0.42        36\n",
      "\n",
      "    accuracy                           0.66       153\n",
      "   macro avg       0.59      0.61      0.59       153\n",
      "weighted avg       0.72      0.66      0.68       153\n",
      "\n",
      "\n",
      "\n",
      "---------------------------------Gradient Boosting------------------------------------\n",
      "Accuracy: 0.67\n",
      "\n",
      "Confusion matrix:\n",
      "[[87 30]\n",
      " [21 15]]\n",
      "\n",
      "US Score: 1.25\n",
      "Original US: 1.00\n",
      "\n",
      "Report:\n",
      "              precision    recall  f1-score   support\n",
      "\n",
      "         GE5       0.81      0.74      0.77       117\n",
      "          L5       0.33      0.42      0.37        36\n",
      "\n",
      "    accuracy                           0.67       153\n",
      "   macro avg       0.57      0.58      0.57       153\n",
      "weighted avg       0.69      0.67      0.68       153\n",
      "\n"
     ]
    }
   ],
   "source": [
    "print(\"---------------------------------kNN------------------------------------\")\n",
    "y_pred = kNN.fit(X_train_tl, y_train_tl).predict(X_test)\n",
    "acc = accuracy_score(y_test, y_pred)\n",
    "print(\"Accuracy: {0:.2f}\\n\".format(acc)) \n",
    "confusion = confusion_matrix(y_test, y_pred)\n",
    "print(\"Confusion matrix:\\n{}\\n\".format(confusion))\n",
    "print(\"US Score: {:.2f}\".format((confusion[0][1] + confusion[1][1]) / (confusion[1][0] + confusion[1][1])))\n",
    "print(\"Original US: {:.2f}\\n\".format(kNNUS))\n",
    "report = classification_report(y_test, y_pred, target_names = ['GE5', 'L5'])\n",
    "print(\"Report:\\n{}\".format(report)) \n",
    "print(\"\\n\")\n",
    "print(\"---------------------------------Logistic Regression------------------------------------\")\n",
    "logreg = LogisticRegression().fit(X_train_tl, y_train_tl)\n",
    "y_pred = logreg.predict(X_test)\n",
    "acc = accuracy_score(y_test, y_pred)\n",
    "print(\"Accuracy: {0:.2f}\\n\".format(acc)) \n",
    "confusion = confusion_matrix(y_test, y_pred)\n",
    "print(\"Confusion matrix:\\n{}\\n\".format(confusion))\n",
    "print(\"US Score: {:.2f}\".format((confusion[0][1] + confusion[1][1]) / (confusion[1][0] + confusion[1][1])))\n",
    "print(\"Original US: {:.2f}\\n\".format(lrUS))\n",
    "report = classification_report(y_test, y_pred, target_names = ['GE5', 'L5'])\n",
    "print(\"Report:\\n{}\".format(report))\n",
    "print(\"\\n\")\n",
    "print(\"---------------------------------DECISION TREE------------------------------------\")\n",
    "tree.fit(X_train_tl, y_train_tl)\n",
    "y_pred = tree.predict(X_test)\n",
    "acc = accuracy_score(y_test, y_pred)\n",
    "print(\"Accuracy: {0:.2f}\\n\".format(acc)) \n",
    "confusion = confusion_matrix(y_test, y_pred)\n",
    "print(\"Confusion matrix:\\n{}\\n\".format(confusion))\n",
    "print(\"US Score: {:.2f}\".format((confusion[0][1] + confusion[1][1]) / (confusion[1][0] + confusion[1][1])))\n",
    "print(\"Original US: {:.2f}\\n\".format(dtUS))\n",
    "report = classification_report(y_test, y_pred, target_names = ['GE5', 'L5'])\n",
    "print(\"Report:\\n{}\".format(report)) \n",
    "print(\"\\n\")\n",
    "print(\"---------------------------------Gradient Boosting------------------------------------\")\n",
    "gbrt = GradientBoostingClassifier().fit(X_train_tl, y_train_tl)\n",
    "y_pred = gbrt.predict(X_test)\n",
    "acc = accuracy_score(y_test, y_pred)\n",
    "print(\"Accuracy: {0:.2f}\\n\".format(acc)) \n",
    "confusion = confusion_matrix(y_test, y_pred)\n",
    "print(\"Confusion matrix:\\n{}\\n\".format(confusion))\n",
    "print(\"US Score: {:.2f}\".format((confusion[0][1] + confusion[1][1]) / (confusion[1][0] + confusion[1][1])))\n",
    "print(\"Original US: {:.2f}\\n\".format(gbUS))\n",
    "report = classification_report(y_test, y_pred, target_names = ['GE5', 'L5'])\n",
    "print(\"Report:\\n{}\".format(report))"
   ]
  },
  {
   "cell_type": "markdown",
   "metadata": {},
   "source": [
    "The results that we see from the use of tomek links are quite interesting and the technique partly worked.\n",
    "\n",
    "For both $k$NN and logistic regression the accuracy is quite high in terms of the results that we have been seeing. Before we applied any sort of over or under sampling we saw quite poor US scores. In the case of the logistic regression classifier the US score is still quite low indicating that a bias towards the dominant class is still present. However, the US score for the kNN classifier is actually quite good at 0.86. This indicates that although a bias towards G5 still exists, it is not very prominent. It is also worth noting that the accuracy has more or less been maintained to get this reduction in bias.\n",
    "\n",
    "Unfortunately the same cannot be said for both of our other classifiers. The US scores in both cases have increased but towards L5. This is likely due to the fact that a bias towards GE5 was not presenty originally for either of these classifiers. Therefore by dropping some samples of GE5 we have increased the bias towards L5. \n",
    "\n",
    "Thus, we can say that Tomek Links are a positive addition for our first two classifiers but have a negative effect on the latter two. "
   ]
  },
  {
   "cell_type": "markdown",
   "metadata": {},
   "source": [
    "After all this testing the it seems that the best reduction in bias was through the use of Tomek Links with the $k$NN classifier and so we shall now test this on an alternative dataset."
   ]
  },
  {
   "cell_type": "markdown",
   "metadata": {},
   "source": [
    "<br>\n",
    "<h3 style=\"color:blue;\" align = \"center\"> Visualising Change in Bias </h3>\n",
    "<br>"
   ]
  },
  {
   "cell_type": "markdown",
   "metadata": {},
   "source": [
    "In order to fully understand the reductions in bias that we achieved it may be useful to plt the bias levels before and after the techniquues we have used to get a good idea of how "
   ]
  },
  {
   "cell_type": "code",
   "execution_count": 37,
   "metadata": {},
   "outputs": [
    {
     "data": {
      "image/png": "[encoded data removed]",
      "text/plain": [
       "<Figure size 432x288 with 1 Axes>"
      ]
     },
     "metadata": {
      "needs_background": "light"
     },
     "output_type": "display_data"
    }
   ],
   "source": [
    "labels = ['kNN', 'Decision Tree', 'Logistic Reg', 'Gradient Boost']\n",
    "before_scores = [.31, .11, .72, 0]\n",
    "after_scores = [.25, .5, .5, .28]\n",
    "\n",
    "x = np.arange(len(labels))  # the label locations\n",
    "width = 0.35  # the width of the bars\n",
    "\n",
    "fig, ax = plt.subplots()\n",
    "rects1 = ax.bar(x - width/2, before_scores, width, label='Before')\n",
    "rects2 = ax.bar(x + width/2, after_scores, width, label='After')\n",
    "\n",
    "# Add some text for labels, title and custom x-axis tick labels, etc.\n",
    "ax.set_ylabel('Distance from 1.0')\n",
    "ax.set_title('Scores by Classifier')\n",
    "ax.set_xticks(x)\n",
    "ax.set_xticklabels(labels)\n",
    "ax.legend()\n",
    "\n",
    "\n",
    "def autolabel(rects):\n",
    "    \"\"\"Attach a text label above each bar in *rects*, displaying its height.\"\"\"\n",
    "    for rect in rects:\n",
    "        height = rect.get_height()\n",
    "        ax.annotate('{}'.format(height),\n",
    "                    xy=(rect.get_x() + rect.get_width() / 2, height),\n",
    "                    xytext=(0, 3),  # 3 points vertical offset\n",
    "                    textcoords=\"offset points\",\n",
    "                    ha='center', va='bottom')\n",
    "\n",
    "\n",
    "autolabel(rects1)\n",
    "autolabel(rects2)\n",
    "\n",
    "fig.tight_layout()\n",
    "\n",
    "plt.show()"
   ]
  },
  {
   "cell_type": "markdown",
   "metadata": {},
   "source": [
    "We can see from the above graph roughly how the bias has changed for each inividual classifier. We are hoping that the orange bar will have reduced for each classifier. The numbers above each bar represent the distance the US score is away from 1. The direction of bias does not matter. \n",
    "\n",
    "Thus we can see that the classifier that has gained the most is the logistic regression classifier. \n",
    "\n",
    "We can also see that both gradient boosting and decision trees have suffered from the change.\n",
    "\n",
    "Finally, $k$NN has received a resonably good change whilst also having the current lowest amount of bias in terms of US score. Therefore this visualisation can be used as another reason to use $k$NN on an alternative dataset."
   ]
  },
  {
   "cell_type": "markdown",
   "metadata": {},
   "source": [
    "<br>\n",
    "<h1 style=\"color:blue;\" align = \"center\"> Part 3: Alternative Dataset</h1>\n",
    "<br>"
   ]
  },
  {
   "cell_type": "code",
   "execution_count": 38,
   "metadata": {},
   "outputs": [],
   "source": [
    "from sklearn.datasets import load_breast_cancer\n",
    "bc = load_breast_cancer()"
   ]
  },
  {
   "cell_type": "code",
   "execution_count": 39,
   "metadata": {},
   "outputs": [
    {
     "name": "stdout",
     "output_type": "stream",
     "text": [
      "['malignant' 'benign']\n",
      "{0: 212, 1: 357}\n",
      "(569, 30)\n"
     ]
    }
   ],
   "source": [
    "unique, count = np.unique(bc.target, return_counts=True)\n",
    "counts = {k:v for (k,v) in zip(unique, count)}\n",
    "print(bc.target_names)\n",
    "print(counts)\n",
    "print(bc.data.shape)"
   ]
  },
  {
   "cell_type": "markdown",
   "metadata": {},
   "source": [
    "The dataset we are now dealing with is the Wisconsin Breast Cancer Dataset that comes with sci-kit. Our two classes are malignant and benign and it is biased towards the positive class this time. \n",
    "\n",
    "The dataset is also rather large in comparison to the data set we just used with 569 entries and 30 features."
   ]
  },
  {
   "cell_type": "code",
   "execution_count": 40,
   "metadata": {},
   "outputs": [],
   "source": [
    "X_train, X_test, y_train, y_test = train_test_split(bc.data, bc.target, stratify=bc.target, random_state=42)"
   ]
  },
  {
   "cell_type": "code",
   "execution_count": 41,
   "metadata": {},
   "outputs": [
    {
     "name": "stdout",
     "output_type": "stream",
     "text": [
      "['malignant' 'benign']\n",
      "{0: 159, 1: 267}\n"
     ]
    }
   ],
   "source": [
    "unique, count = np.unique(y_train, return_counts=True)\n",
    "counts = {k:v for (k,v) in zip(unique, count)}\n",
    "print(bc.target_names)\n",
    "print(counts)"
   ]
  },
  {
   "cell_type": "markdown",
   "metadata": {},
   "source": [
    "We must first check to see how a basic decision tree classifier with no pruning works on our data set as it currently is."
   ]
  },
  {
   "cell_type": "code",
   "execution_count": 42,
   "metadata": {},
   "outputs": [
    {
     "name": "stdout",
     "output_type": "stream",
     "text": [
      "Accuracy: 0.93 \n",
      "\n",
      "[TN, FP]\n",
      "[FN, TP]\n",
      "Confusion matrix:\n",
      "[[47  6]\n",
      " [ 4 86]]\n",
      "\n",
      "US Score: 1.02 \n"
     ]
    }
   ],
   "source": [
    "kNN = KNeighborsClassifier(n_neighbors=3)\n",
    "\n",
    "y_pred = kNN.fit(X_train, y_train).predict(X_test)\n",
    "\n",
    "acc = accuracy_score(y_test, y_pred)\n",
    "print(\"Accuracy: {0:.2f} \\n\".format(acc)) \n",
    "print(\"[TN, FP]\")\n",
    "print(\"[FN, TP]\")\n",
    "confusion = confusion_matrix(y_test, y_pred)\n",
    "print(\"Confusion matrix:\\n{}\\n\".format(confusion))\n",
    "kNNUS = (confusion[0][1] + confusion[1][1]) / (confusion[1][0] + confusion[1][1])\n",
    "print(\"US Score: {:.2f} \".format(kNNUS))"
   ]
  },
  {
   "cell_type": "markdown",
   "metadata": {},
   "source": [
    "We have now split the data and can see that the bias is still present"
   ]
  },
  {
   "cell_type": "code",
   "execution_count": 43,
   "metadata": {},
   "outputs": [
    {
     "name": "stdout",
     "output_type": "stream",
     "text": [
      "{0: 159, 1: 258}\n"
     ]
    }
   ],
   "source": [
    "X_train_tl, y_train_tl = tl.fit_sample(X_train, y_train)\n",
    "unique, count = np.unique(y_train_tl, return_counts=True)\n",
    "counts = {k:v for (k,v) in zip(unique, count)}\n",
    "print(counts)"
   ]
  },
  {
   "cell_type": "code",
   "execution_count": 44,
   "metadata": {},
   "outputs": [
    {
     "name": "stdout",
     "output_type": "stream",
     "text": [
      "Accuracy: 0.92\n",
      "\n",
      "Confusion matrix:\n",
      "[[48  5]\n",
      " [ 6 84]]\n",
      "\n",
      "US Score: 0.99\n",
      "Original US: 1.02\n",
      "Report:\n",
      "              precision    recall  f1-score   support\n",
      "\n",
      "         GE5       0.89      0.91      0.90        53\n",
      "          L5       0.94      0.93      0.94        90\n",
      "\n",
      "    accuracy                           0.92       143\n",
      "   macro avg       0.92      0.92      0.92       143\n",
      "weighted avg       0.92      0.92      0.92       143\n",
      "\n",
      "\n",
      "\n"
     ]
    }
   ],
   "source": [
    "y_pred = kNN.fit(X_train_tl, y_train_tl).predict(X_test)\n",
    "acc = accuracy_score(y_test, y_pred)\n",
    "print(\"Accuracy: {0:.2f}\\n\".format(acc)) \n",
    "confusion = confusion_matrix(y_test, y_pred)\n",
    "print(\"Confusion matrix:\\n{}\\n\".format(confusion))\n",
    "print(\"US Score: {:.2f}\".format((confusion[0][1] + confusion[1][1]) / (confusion[1][0] + confusion[1][1])))\n",
    "print(\"Original US: 1.02\")\n",
    "report = classification_report(y_test, y_pred, target_names = ['GE5', 'L5'])\n",
    "print(\"Report:\\n{}\".format(report)) \n",
    "print(\"\\n\")"
   ]
  },
  {
   "cell_type": "markdown",
   "metadata": {},
   "source": [
    "Obviously there has not been much change in bias (.01) but this is likely due to the fact that there was not much room for improvement. Also, if we look at what the Tomek Links method did in this case it didn't actually do a massive amount. We can see that before we implemented the technique there was 267 pieces of data relating to the majority class and after there was still 258. Thus, only 9 examples have been dropped. This is likely because there was not many points from alternating classes close to each other. \n",
    "\n",
    "If we check the positions of the points using the top 2 features of $k$NN we may be able to visualise this."
   ]
  },
  {
   "cell_type": "code",
   "execution_count": 45,
   "metadata": {},
   "outputs": [
    {
     "name": "stdout",
     "output_type": "stream",
     "text": [
      "Feature:0 mean radius, Score: 0.00000\n",
      "Feature:1 mean texture, Score: 0.00047\n",
      "Feature:2 mean perimeter, Score: 0.00141\n",
      "Feature:3 mean area, Score: 0.17418\n",
      "Feature:4 mean smoothness, Score: 0.00000\n",
      "Feature:5 mean compactness, Score: 0.00000\n",
      "Feature:6 mean concavity, Score: 0.00000\n",
      "Feature:7 mean concave points, Score: 0.00000\n",
      "Feature:8 mean symmetry, Score: 0.00000\n",
      "Feature:9 mean fractal dimension, Score: 0.00000\n",
      "Feature:10 radius error, Score: 0.00000\n",
      "Feature:11 texture error, Score: 0.00000\n",
      "Feature:12 perimeter error, Score: 0.00000\n",
      "Feature:13 area error, Score: -0.00047\n",
      "Feature:14 smoothness error, Score: 0.00000\n",
      "Feature:15 compactness error, Score: 0.00000\n",
      "Feature:16 concavity error, Score: 0.00000\n",
      "Feature:17 concave points error, Score: 0.00000\n",
      "Feature:18 symmetry error, Score: 0.00000\n",
      "Feature:19 fractal dimension error, Score: 0.00000\n",
      "Feature:20 worst radius, Score: 0.00000\n",
      "Feature:21 worst texture, Score: 0.00141\n",
      "Feature:22 worst perimeter, Score: 0.00892\n",
      "Feature:23 worst area, Score: 0.41315\n",
      "Feature:24 worst smoothness, Score: 0.00000\n",
      "Feature:25 worst compactness, Score: 0.00000\n",
      "Feature:26 worst concavity, Score: 0.00000\n",
      "Feature:27 worst concave points, Score: 0.00000\n",
      "Feature:28 worst symmetry, Score: 0.00000\n",
      "Feature:29 worst fractal dimension, Score: 0.00000\n"
     ]
    },
    {
     "data": {
      "image/png": "[encoded data removed]",
      "text/plain": [
       "<Figure size 432x288 with 1 Axes>"
      ]
     },
     "metadata": {
      "needs_background": "light"
     },
     "output_type": "display_data"
    }
   ],
   "source": [
    "from sklearn.inspection import permutation_importance\n",
    "\n",
    "#Using training set before Tomek Links\n",
    "results = permutation_importance(kNN, X_train, y_train, scoring='accuracy')\n",
    "importance = results.importances_mean\n",
    "for i,v in enumerate(importance):\n",
    "    print('Feature:{} {}, Score: {:.5f}'.format(i, bc.feature_names[i],v))\n",
    "# plot feature importance\n",
    "pyplot.bar([x for x in range(len(importance))], importance)\n",
    "pyplot.show()"
   ]
  },
  {
   "cell_type": "markdown",
   "metadata": {},
   "source": [
    "It seems that the two most important features are mean area and worst area."
   ]
  },
  {
   "cell_type": "code",
   "execution_count": 46,
   "metadata": {},
   "outputs": [
    {
     "data": {
      "text/plain": [
       "[<matplotlib.lines.Line2D at 0x1c1678eba90>,\n",
       " <matplotlib.lines.Line2D at 0x1c1678ebac8>]"
      ]
     },
     "execution_count": 46,
     "metadata": {},
     "output_type": "execute_result"
    },
    {
     "data": {
      "image/png": "[encoded data removed]",
      "text/plain": [
       "<Figure size 432x288 with 1 Axes>"
      ]
     },
     "metadata": {
      "needs_background": "light"
     },
     "output_type": "display_data"
    }
   ],
   "source": [
    "model = KNeighborsClassifier(n_neighbors=3)\n",
    "clf = model.fit(X_train,y_train)\n",
    "mglearn.discrete_scatter(X_train[:,3],X_train[:,23], y_train, ax=None)"
   ]
  },
  {
   "cell_type": "code",
   "execution_count": 47,
   "metadata": {},
   "outputs": [
    {
     "data": {
      "text/plain": [
       "[<matplotlib.lines.Line2D at 0x1c167952a20>,\n",
       " <matplotlib.lines.Line2D at 0x1c167952a58>]"
      ]
     },
     "execution_count": 47,
     "metadata": {},
     "output_type": "execute_result"
    },
    {
     "data": {
      "image/png": "[encoded data removed]",
      "text/plain": [
       "<Figure size 432x288 with 1 Axes>"
      ]
     },
     "metadata": {
      "needs_background": "light"
     },
     "output_type": "display_data"
    }
   ],
   "source": [
    "model = KNeighborsClassifier(n_neighbors=3)\n",
    "clf = model.fit(X_train_tl,y_train_tl)\n",
    "mglearn.discrete_scatter(X_train_tl[:,3],X_train_tl[:,23], y_train_tl, ax=None)"
   ]
  },
  {
   "cell_type": "markdown",
   "metadata": {},
   "source": [
    "These graphs are by no means scientific as they onlt take into account 2 features, allbeit the two most important features, of the data set.\n",
    "\n",
    "We can see from the graphs that the use of Tomek Links did not actually change a massive amount. From looking at the graphs it is next to impossible to see any changes. \n",
    "\n",
    "This is due to the fact there was already a clear area of seperation for us to work with. For example, if we draw a line from roughly 3000 on the y-axis down to roughly 1000 on the x-axis we would have relatively clear seperation of the classes. this is what Tomek Links attempt to achieve but in this case this seperation was already present. This was not the case for the first data set we tested.\n",
    "\n",
    "Thus the use of Tomek Links was actually more or less an extra dditional step that was unnesseccary for this specific data set."
   ]
  },
  {
   "cell_type": "markdown",
   "metadata": {},
   "source": [
    "<br>\n",
    "<h1 style=\"color:blue;\" align = \"center\"> Conclusion</h1>\n",
    "<br>"
   ]
  },
  {
   "cell_type": "markdown",
   "metadata": {},
   "source": [
    "We can now see that bias in our data can effect different classifiers in different ways. We can also see that there are a number of different ways that this bias can be addressed. For example, we could simply use cross validation in the hopes that this may help although in our experience it did not do much good.\n",
    "\n",
    "Alternatively we could use a balancing techique to upsample or downsample the data set. Ultimately we decided to go for both. We can then combine this with some classifier parameter tuning to get optimal results. \n",
    "\n",
    "Each classifier will be different and each data set will be different so unfortunately there is no definitive way to deal with bias but luckily there are a number of different approaches we can take to help to increase the effectiveness of classifiers."
   ]
  },
  {
   "cell_type": "markdown",
   "metadata": {},
   "source": [
    "<br>\n",
    "<h1 style=\"color:blue;\" align = \"center\"> Bibliography</h1>\n",
    "<br>"
   ]
  },
  {
   "cell_type": "markdown",
   "metadata": {},
   "source": [
    "1) Algorithmic Bias and Regularisation in Machine Learning (Cunningham & Delaney, 2020) Available At: https://arxiv.org/abs/2005.09052\n",
    "\n",
    "2) Introduction to Machine Learning with Python (Muller & Guido, 2017) (Book)\n",
    "\n",
    "3) Resampling strategies for imbalanced datasets (Alencar, 2017) Available at: https://www.kaggle.com/rafjaa/resampling-strategies-for-imbalanced-datasets\n",
    "\n",
    "4) Random Oversampling and Undersampling for Imbalanced Classification (Brownlee, 2020) Available at: https://machinelearningmastery.com/random-oversampling-and-undersampling-for-imbalanced-classification/\n",
    "\n",
    "5) Practical tips for class imbalance in binary classification (Wang, 2018) Available at: https://towardsdatascience.com/practical-tips-for-class-imbalance-in-binary-classification-6ee29bcdb8a7\n",
    "\n",
    "6) Classification of Imbalance Data using Tomek Link(T-Link) Combined with Random Under-sampling (RUS) as a Data Reduction Method (Elhassan, 2016) Available At: https://www.researchgate.net/publication/305742928_Classification_of_Imbalance_Data_using_Tomek_LinkT-Link_Combined_with_Random_Under-sampling_RUS_as_a_Data_Reduction_Method\n"
   ]
  },
  {
   "cell_type": "code",
   "execution_count": null,
   "metadata": {},
   "outputs": [],
   "source": []
  },
  {
   "cell_type": "code",
   "execution_count": null,
   "metadata": {},
   "outputs": [],
   "source": []
  },
  {
   "cell_type": "code",
   "execution_count": null,
   "metadata": {},
   "outputs": [],
   "source": []
  }
 ],
 "metadata": {
  "kernelspec": {
   "display_name": "Python 3",
   "language": "python",
   "name": "python3"
  },
  "language_info": {
   "codemirror_mode": {
    "name": "ipython",
    "version": 3
   },
   "file_extension": ".py",
   "mimetype": "text/x-python",
   "name": "python",
   "nbconvert_exporter": "python",
   "pygments_lexer": "ipython3",
   "version": "3.7.3"
  }
 },
 "nbformat": 4,
 "nbformat_minor": 2
}
